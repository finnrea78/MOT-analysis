{
 "cells": [],
 "metadata": {
  "kernelspec": {
   "display_name": "mot-analysis-129goUNT-py3.12",
   "language": "python",
   "name": "python3"
  },
  "language_info": {
   "name": "python",
   "version": "3.12.6"
  }
 },
 "nbformat": 4,
 "nbformat_minor": 5
}
