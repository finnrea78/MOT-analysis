{
 "cells": [
  {
   "cell_type": "markdown",
   "id": "b6a2302b",
   "metadata": {},
   "source": [
    "#### review topic modelling"
   ]
  }
 ],
 "metadata": {
  "kernelspec": {
   "display_name": "mot-analysis-129goUNT-py3.12",
   "language": "python",
   "name": "python3"
  },
  "language_info": {
   "name": "python",
   "version": "3.12.6"
  }
 },
 "nbformat": 4,
 "nbformat_minor": 5
}
