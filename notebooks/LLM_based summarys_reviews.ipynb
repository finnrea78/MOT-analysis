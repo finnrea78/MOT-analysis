{
 "cells": [
  {
   "cell_type": "markdown",
   "id": "a7663b24",
   "metadata": {},
   "source": [
    "# Using a LLM such as bert to give a basic summary of poeple opinions of the cars\n",
    "\n"
   ]
  },
  {
   "cell_type": "code",
   "execution_count": 1,
   "id": "27b3210b",
   "metadata": {},
   "outputs": [],
   "source": [
    "import pandas as pd\n",
    "\n",
    "import os\n",
    "import spacy \n",
    "from spacy import displacy\n",
    "\n",
    "import gensim\n",
    "from gensim.corpora import Dictionary\n",
    "from gensim.models import LdaModel, CoherenceModel, LsiModel, HdpModel\n",
    "\n",
    "import pandas as pd\n",
    "from sklearn.feature_extraction.text import TfidfVectorizer\n",
    "from sklearn.decomposition import LatentDirichletAllocation\n",
    "from nltk.corpus import stopwords\n",
    "from nltk.tokenize import word_tokenize\n",
    "from nltk.stem import WordNetLemmatizer\n",
    "from nltk.sentiment.vader import SentimentIntensityAnalyzer\n",
    "import nltk"
   ]
  },
  {
   "cell_type": "code",
   "execution_count": 2,
   "id": "3886548d",
   "metadata": {},
   "outputs": [],
   "source": [
    "# Trying to read with more flexible options\n",
    "try:\n",
    "    # Attempt with error handling options\n",
    "    df = pd.read_csv(\"./car_review_datasets/Scraped_Car_Review_ford.csv\", \n",
    "                     error_bad_lines=False,  # Skip bad lines\n",
    "                     warn_bad_lines=True,    # Warn about them\n",
    "                     encoding='utf-8')       # Explicit encoding\n",
    "except:\n",
    "    # If that doesn't work, try a different approach\n",
    "    df = pd.read_csv(\"./car_review_datasets/Scraped_Car_Review_ford.csv\", \n",
    "                     engine='python',        # Python engine is more flexible\n",
    "                     encoding='utf-8')       # Explicit encoding"
   ]
  },
  {
   "cell_type": "code",
   "execution_count": 3,
   "id": "f1625615",
   "metadata": {},
   "outputs": [
    {
     "name": "stderr",
     "output_type": "stream",
     "text": [
      "/tmp/ipykernel_411301/3309848676.py:3: SettingWithCopyWarning: \n",
      "A value is trying to be set on a copy of a slice from a DataFrame.\n",
      "Try using .loc[row_indexer,col_indexer] = value instead\n",
      "\n",
      "See the caveats in the documentation: https://pandas.pydata.org/pandas-docs/stable/user_guide/indexing.html#returning-a-view-versus-a-copy\n",
      "  df_fiesta[\"vehicle_age\"] = df_fiesta[\"Vehicle_Title\"].str.extract(r'(\\d{4})')[0]\n",
      "/tmp/ipykernel_411301/3309848676.py:4: SettingWithCopyWarning: \n",
      "A value is trying to be set on a copy of a slice from a DataFrame.\n",
      "Try using .loc[row_indexer,col_indexer] = value instead\n",
      "\n",
      "See the caveats in the documentation: https://pandas.pydata.org/pandas-docs/stable/user_guide/indexing.html#returning-a-view-versus-a-copy\n",
      "  df_fiesta[\"vehicle_age\"] = pd.to_numeric(df_fiesta[\"vehicle_age\"])\n"
     ]
    }
   ],
   "source": [
    "df = df.drop('Unnamed: 0', axis=1)\n",
    "df_fiesta = df[df[\"Vehicle_Title\"].str.contains(\"Fiesta\", na=False)]\n",
    "df_fiesta[\"vehicle_age\"] = df_fiesta[\"Vehicle_Title\"].str.extract(r'(\\d{4})')[0]\n",
    "df_fiesta[\"vehicle_age\"] = pd.to_numeric(df_fiesta[\"vehicle_age\"])\n",
    "df_fiesta = df_fiesta[df_fiesta[\"vehicle_age\"] < 2017]\n",
    "df_fiesta = df_fiesta.reset_index(drop=True)"
   ]
  },
  {
   "cell_type": "code",
   "execution_count": 4,
   "id": "c0c5a55c",
   "metadata": {},
   "outputs": [],
   "source": [
    "df_fiesta_reviews = df_fiesta[[\"Review\", \"Rating\", \"Review_Title\", \"vehicle_age\"]].copy()\n"
   ]
  },
  {
   "cell_type": "code",
   "execution_count": 18,
   "id": "0cf67712",
   "metadata": {},
   "outputs": [
    {
     "data": {
      "text/plain": [
       "array([' We bought a Ford Fiesta 2014 in March. The Sound was Popping on and off for the longest time. We took it to the Ford dealership 2x visited 2x to complain of loud popping from the radio. They kept saying \"The diagnostics didn\\'t show anything\". Now our radio doesn\\'t come on at all the sound makes high pitch noises, scratchy noises, and terrible. We went to a car machanic guy and he says \"Yeah, he had 3-4 of the same vehicles with this issue.\" He said it is the chip in it which costs $500 to fix.\"  If you\\'re looking into this vehicle please note there is also no physical Locks on the doors either which could possibly mess up and should be considered a safety hazard.   We have had this car for only 10 months and is MORE TROUBLE than it is Worth.',\n",
       "       ' OK, I will be honest, at first I didn\\'t like the quirky transmission of the car. It NEVER did anything serious such as stall, fail to make the car go when I stepped on the accelerator or some of the other things I have seen in other reviews. The problem was simply clicking noises and a bit of awkwardness in city driving, where stopping and changing speeds constantly is required. Absolutely NO problems at cruising speeds in the highway (in fact, STELLAR performance in highway driving).  At the dealership, they told me that this dual-clutch transmission is new technology, and the car needs time to \"learn\" your driving style and adapt to it. I didn\\'t believe it and I brought the car back a couple times. Each time they downloaded the updated software into the transmission for free. I wasn\\'t happy because I really didn\\'t believe what they were telling me. I have now owned this car for 3 years, and it has grown in me, to where I can now recommend it. First, everything other than the quirky transmission is really awesome (the comfort ride, the power considering its small engine, the fuel economy, the looks, the interior design, the AWESOME touch-screen entertainment system/bluetooth, high-tech, great sound, etc.). Second, with time, I found that what I was initially told at the dealer about the transmission turned out to be true. I also agree with another reviewer who said that this is a car that you have to learn to drive. The quirks and awkwardness have faded away over the three years. The car really adapts to your driving style! But you also learn how to avoid the quirks. I love the car now, and I think that the tradeoff in the initial issues with the transmission is small in comparison with all the good things you get from this car. Recently, Ford extended the warranty on the transmission control module to 10 years or 150,000miles for free. I got a letter explaining this. I appreciated this gesture from Ford, and makes me feel confident about keeping this car.',\n",
       "       \" I rented this car. The transmission problems that people speak of, they were present in my rental. If I was trying to turn left with oncoming traffic, I would press the accelerator and wait... wait what seems a lifetime, but perhaps about one second... then the car would lunge forward and clumsily across the road. Waiting a second when traffic is coming is downright dangerous, and when the car does start to move it really moves in a scary lunge. Just adding my two cents. It's been about a year since I rented it, but it was so bad I will never forget it!\",\n",
       "       \" Okay... does this car stutter when you drive it. No. If you learn how to drive it. It takes time as the car learns how you drive and you have to learn how to drive it. If my wife and I switch drivers it does stutter. It never, ever stutters for me. Not at all. The trick is to be assertive. That doesn't mean floor it.  That means to step down a tiny bit harder than you normally would. If you get a stammer you do not back off the accelerator as you would normally do... you press down about 10% more and the stutter will immediately stop. When you accelerate to get onto the highway you want to do that assertively. That means you press down the accelerator to 40% and let the car move through the gears without changing the accelerator setting until you reach 4th or 5th gear. It will be very smooth if you do that. Eventually the car and you will learn and you'll have a smooth ride every time.  In exchange for learning how to drive you will get between 40 and 50 MPG on the highway. You will get between 30 and 40 around town. I fill the gas tank twice a month (and it only holds 14 gallons). Yes, you may have been fooled when you bought this car. It does not have an automatic transmission. NO. If you expect it to act like a conventional automatic transmission you will be disappointed. It won't, it is a manual transmission and it absolutely acts like one. If you learn to drive it properly, learn to work with its limitations, you will find it is a nice, little, pretty, INEXPENSIVE car. You have to learn to love it.\",\n",
       "       \" This car is a death trap and an embarrassment to drive. The transmission is constantly jerking, grinding, hesitating, etc. This is a common problem that Ford is apparently doing nothing about. It should be illegal to sell a car like this.  Of course the fact that the Ford salesman lied to me when I purchased the car doesn't help.  Will not ever purchase another Ford. Can't wait to get rid of this piece of garbage.\"],\n",
       "      dtype=object)"
      ]
     },
     "execution_count": 18,
     "metadata": {},
     "output_type": "execute_result"
    }
   ],
   "source": [
    "df_fiesta_reviews[0:5][\"Review\"].values"
   ]
  },
  {
   "cell_type": "code",
   "execution_count": 5,
   "id": "af6262d7",
   "metadata": {},
   "outputs": [
    {
     "name": "stderr",
     "output_type": "stream",
     "text": [
      "/home/reaf/.cache/pypoetry/virtualenvs/mot-analysis-129goUNT-py3.12/lib/python3.12/site-packages/tqdm/auto.py:21: TqdmWarning: IProgress not found. Please update jupyter and ipywidgets. See https://ipywidgets.readthedocs.io/en/stable/user_install.html\n",
      "  from .autonotebook import tqdm as notebook_tqdm\n"
     ]
    }
   ],
   "source": [
    "import pandas as pd\n",
    "from sentence_transformers import SentenceTransformer\n",
    "from sklearn.cluster import AgglomerativeClustering\n",
    "from sklearn.metrics import silhouette_score\n",
    "from transformers import pipeline\n"
   ]
  },
  {
   "cell_type": "code",
   "execution_count": 26,
   "id": "1768d5d7",
   "metadata": {},
   "outputs": [],
   "source": [
    "df_fiesta_reviews = df_fiesta[[\"Review\", \"Rating\", \"Review_Title\", \"vehicle_age\"]].copy()\n"
   ]
  },
  {
   "cell_type": "code",
   "execution_count": 27,
   "id": "72fb4f17",
   "metadata": {},
   "outputs": [],
   "source": [
    "pos_reviews = df_fiesta_reviews[df_fiesta_reviews[\"Rating\"]> 3]"
   ]
  },
  {
   "cell_type": "code",
   "execution_count": 33,
   "id": "ecec5f28",
   "metadata": {},
   "outputs": [
    {
     "name": "stderr",
     "output_type": "stream",
     "text": [
      "Device set to use cpu\n"
     ]
    }
   ],
   "source": [
    "summarizer = pipeline('summarization', model=\"facebook/bart-large-cnn\")\n",
    "\n",
    "\n",
    "stop_words = set(stopwords.words('english'))\n",
    "\n",
    "def preprocess(text):\n",
    "    tokens = word_tokenize(text)\n",
    "    tokens = [word for word in tokens if word not in stop_words and len(word) > 2]\n",
    "    return tokens\n",
    "\n",
    "\n",
    "nlp = spacy.load('en_core_web_sm')\n",
    "def lemmatize(tokens):\n",
    "    doc = nlp(' '.join(tokens))\n",
    "    return [token.lemma_ for token in doc if token.pos_ in ['NOUN', 'ADJ', 'VERB']]\n"
   ]
  },
  {
   "cell_type": "code",
   "execution_count": null,
   "id": "8bde7c4f",
   "metadata": {},
   "outputs": [
    {
     "name": "stdout",
     "output_type": "stream",
     "text": [
      "Generating comprehensive Ford Fiesta executive summary...\n",
      "Processing 20 positive reviews in 4 batches...\n",
      "Summarizing batch 1/4...\n"
     ]
    },
    {
     "name": "stderr",
     "output_type": "stream",
     "text": [
      "Your max_length is set to 100, but your input_length is only 52. Since this is a summarization task, where outputs shorter than the input are typically wanted, you might consider decreasing max_length manually, e.g. summarizer('...', max_length=26)\n",
      "Your max_length is set to 100, but your input_length is only 48. Since this is a summarization task, where outputs shorter than the input are typically wanted, you might consider decreasing max_length manually, e.g. summarizer('...', max_length=24)\n"
     ]
    },
    {
     "name": "stdout",
     "output_type": "stream",
     "text": [
      "Summarizing batch 2/4...\n",
      "Summarizing batch 3/4...\n"
     ]
    },
    {
     "name": "stderr",
     "output_type": "stream",
     "text": [
      "Your max_length is set to 100, but your input_length is only 78. Since this is a summarization task, where outputs shorter than the input are typically wanted, you might consider decreasing max_length manually, e.g. summarizer('...', max_length=39)\n"
     ]
    },
    {
     "name": "stdout",
     "output_type": "stream",
     "text": [
      "Summarizing batch 4/4...\n"
     ]
    },
    {
     "name": "stderr",
     "output_type": "stream",
     "text": [
      "Your max_length is set to 100, but your input_length is only 51. Since this is a summarization task, where outputs shorter than the input are typically wanted, you might consider decreasing max_length manually, e.g. summarizer('...', max_length=25)\n"
     ]
    },
    {
     "name": "stdout",
     "output_type": "stream",
     "text": [
      "Processing 20 positive reviews in 4 batches...\n",
      "Summarizing batch 1/4...\n"
     ]
    },
    {
     "name": "stderr",
     "output_type": "stream",
     "text": [
      "Your max_length is set to 100, but your input_length is only 69. Since this is a summarization task, where outputs shorter than the input are typically wanted, you might consider decreasing max_length manually, e.g. summarizer('...', max_length=34)\n"
     ]
    },
    {
     "name": "stdout",
     "output_type": "stream",
     "text": [
      "Summarizing batch 2/4...\n"
     ]
    },
    {
     "name": "stderr",
     "output_type": "stream",
     "text": [
      "Your max_length is set to 100, but your input_length is only 58. Since this is a summarization task, where outputs shorter than the input are typically wanted, you might consider decreasing max_length manually, e.g. summarizer('...', max_length=29)\n"
     ]
    },
    {
     "name": "stdout",
     "output_type": "stream",
     "text": [
      "Summarizing batch 3/4...\n"
     ]
    },
    {
     "name": "stderr",
     "output_type": "stream",
     "text": [
      "Your max_length is set to 100, but your input_length is only 31. Since this is a summarization task, where outputs shorter than the input are typically wanted, you might consider decreasing max_length manually, e.g. summarizer('...', max_length=15)\n",
      "Your max_length is set to 100, but your input_length is only 83. Since this is a summarization task, where outputs shorter than the input are typically wanted, you might consider decreasing max_length manually, e.g. summarizer('...', max_length=41)\n"
     ]
    },
    {
     "name": "stdout",
     "output_type": "stream",
     "text": [
      "Summarizing batch 4/4...\n",
      "\n",
      "\n",
      "CONTRASTIVE SUMMARY OF FORD FIESTA REVIEWS:\n",
      "======================================================================\n",
      "The 2016 Fiesta SE Sedan is our new RV motorhome tow car. Good road handling, good acceleration, sport car feel steering, great visibility, incredible gas mileage. With a base price of $13,900 it's a great value. The hatchback is the way to go when it comes to style, function, and long term value. For a LITTLE car, this vehicle has been quite functional and comfortable. Upholstery is in great shape even after 2 years of beach trips.\n",
      "======================================================================\n"
     ]
    }
   ],
   "source": [
    "def batch_summarize(reviews, sentiment=\"positive\", batch_size=5):\n",
    "    \"\"\"\n",
    "    Summarize reviews in batches to avoid memory issues.\n",
    "    \"\"\"\n",
    "\n",
    "    all_reviews = reviews['Review'].tolist()\n",
    "\n",
    "    total_reviews = len(reviews)\n",
    "    batches = []\n",
    "\n",
    "    # Process reviews in smaller batches\n",
    "    for i in range(0, total_reviews, batch_size):\n",
    "        batch = all_reviews[i:i + batch_size]\n",
    "        batches.append(batch)\n",
    "    \n",
    "    print(f\"Processing {total_reviews} {sentiment} reviews in {len(batches)} batches...\")\n",
    "    \n",
    "    # Process each batch separately\n",
    "    batch_summaries = []\n",
    "    for i, batch in enumerate(batches):\n",
    "        print(f\"Summarizing batch {i+1}/{len(batches)}...\")\n",
    "        \n",
    "        # Generate summaries for each review in the batch\n",
    "        batch_review_summaries = []\n",
    "        for review in batch:\n",
    "            if isinstance(review, str) and len(review.strip()) > 100:\n",
    "                # Truncate long reviews to avoid token limits\n",
    "                truncated_review = review[:3500]\n",
    "                try:\n",
    "                    summary = summarizer(truncated_review, max_length=100, min_length=30, do_sample=False)\n",
    "                    batch_review_summaries.append(summary[0]['summary_text'])\n",
    "                except Exception as e:\n",
    "                    print(f\"Error processing review: {e}\")\n",
    "        \n",
    "        # Combine the summaries from this batch\n",
    "        if batch_review_summaries:\n",
    "            combined_batch = \" \".join(batch_review_summaries)\n",
    "            # Generate a summary of the combined summaries\n",
    "            try:\n",
    "                batch_summary = summarizer(combined_batch, max_length=200, min_length=50, do_sample=False)\n",
    "                batch_summaries.append(batch_summary[0]['summary_text'])\n",
    "            except Exception as e:\n",
    "                print(f\"Error summarizing batch: {e}\")\n",
    "        \n",
    "    final_summary_text = \" \".join(batch_summaries)\n",
    "    \n",
    "    # Generate the final comprehensive summary\n",
    "    try:\n",
    "        final_summary = summarizer(final_summary_text, \n",
    "                                   max_length=250, \n",
    "                                   min_length=150, \n",
    "                                   do_sample=False)\n",
    "        \n",
    "        print(f\"Final summary generated for {sentiment} reviews.\")\n",
    "        print(\"=\" * 70)\n",
    "        print(final_summary[0]['summary_text'])\n",
    "        print(\"=\" * 70)\n",
    "\n",
    "        return final_summary[0]['summary_text']\n",
    "    except Exception as e:\n",
    "        print(f\"Error generating final summary: {e}\")\n",
    "        return \"Failed to generate comprehensive summary due to an error.\"\n",
    "\n",
    "\n",
    "\n",
    "def create_full_summary(df_fiesta_reviews):\n",
    "    \"\"\"\n",
    "    Create a comprehensive executive summary of Ford Fiesta reviews\n",
    "    using a multi-stage summarization approach.\n",
    "    \"\"\"\n",
    "\n",
    "    print(\"Generating comprehensive Ford Fiesta executive summary...\")\n",
    "\n",
    "\n",
    "\n",
    "    pos_reviews = df_fiesta_reviews[df_fiesta_reviews[\"Rating\"]> 3].sample(n=20)\n",
    "    neg_reviews = df_fiesta_reviews[df_fiesta_reviews[\"Rating\"]< 3].sample(n=20)\n",
    "\n",
    "    try:\n",
    "        final_pos_summary = batch_summarize(pos_reviews, sentiment=\"positive\", batch_size=5)\n",
    "        final_neg_summary = batch_summarize(neg_reviews, sentiment=\"negative\", batch_size=5)\n",
    "\n",
    "        contrastive_prompt = (\n",
    "                f\"Positive summary: {final_pos_summary}\\n\\n\" +\n",
    "                f\"Negative summary: {final_neg_summary}\\n\\n\" +\n",
    "                \"Based on the contrasting opinions above about the Ford Fiesta, provide a balanced perspective on the car's strengths and weaknesses.\"\n",
    "            )\n",
    "        \n",
    "        print(contrastive_prompt)\n",
    "        \n",
    "        contrastive_result = summarizer(contrastive_prompt[:3500], max_length=200, min_length=100, do_sample=False)\n",
    "\n",
    "        return contrastive_result[0]['summary_text']\n",
    "    except Exception as e:\n",
    "        print(f\"Error during summarization: {e}\")\n",
    "        return \"Failed to generate comprehensive summary due to an error.\"\n",
    "    \n",
    "\n",
    "contrastive_summary = create_full_summary(df_fiesta_reviews)\n",
    "\n",
    "print(\"\\n\\nCONTRASTIVE SUMMARY OF FORD FIESTA REVIEWS:\")\n",
    "print(\"=\"*70)\n",
    "print(contrastive_summary)\n",
    "print(\"=\"*70)\n",
    "\n",
    "\n",
    "\n",
    "\n",
    "\n",
    "\n",
    "\n",
    "\n",
    "        \n"
   ]
  },
  {
   "cell_type": "code",
   "execution_count": null,
   "id": "1b31fa94",
   "metadata": {},
   "outputs": [],
   "source": []
  },
  {
   "cell_type": "code",
   "execution_count": null,
   "id": "39b20a89",
   "metadata": {},
   "outputs": [],
   "source": []
  },
  {
   "cell_type": "code",
   "execution_count": null,
   "id": "b3a48b87",
   "metadata": {},
   "outputs": [],
   "source": []
  },
  {
   "cell_type": "code",
   "execution_count": null,
   "id": "5aa94060",
   "metadata": {},
   "outputs": [],
   "source": []
  },
  {
   "cell_type": "code",
   "execution_count": null,
   "id": "3858198b",
   "metadata": {},
   "outputs": [],
   "source": []
  }
 ],
 "metadata": {
  "kernelspec": {
   "display_name": "mot-analysis-129goUNT-py3.12",
   "language": "python",
   "name": "python3"
  },
  "language_info": {
   "codemirror_mode": {
    "name": "ipython",
    "version": 3
   },
   "file_extension": ".py",
   "mimetype": "text/x-python",
   "name": "python",
   "nbconvert_exporter": "python",
   "pygments_lexer": "ipython3",
   "version": "3.12.6"
  }
 },
 "nbformat": 4,
 "nbformat_minor": 5
}
